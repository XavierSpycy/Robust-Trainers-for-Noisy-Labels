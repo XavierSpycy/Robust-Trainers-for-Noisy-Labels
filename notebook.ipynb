{
 "cells": [
  {
   "cell_type": "markdown",
   "metadata": {},
   "source": [
    "# Robust Trainers for Noisy Labels"
   ]
  },
  {
   "cell_type": "markdown",
   "metadata": {},
   "source": [
    "## Setup"
   ]
  },
  {
   "cell_type": "code",
   "execution_count": null,
   "metadata": {},
   "outputs": [],
   "source": [
    "# Supress warnings caused by future changes in packages\n",
    "import torchvision\n",
    "import warnings\n",
    "warnings.filterwarnings('ignore')\n",
    "torchvision.disable_beta_transforms_warning()\n",
    "\n",
    "# Import necessary objects and functions\n",
    "from algorithm.datasets import fashion_mnist_05, fashion_mnist_06, cifar, ImageDataset, get_test_loader\n",
    "from algorithm.classifiers import ResNet34\n",
    "from algorithm.eval import eval_metrics\n",
    "from algorithm.experiments import set_seed, Experiment\n",
    "from algorithm.trainers import CoTeaching, ForwardLossCorrection"
   ]
  },
  {
   "cell_type": "markdown",
   "metadata": {},
   "source": [
    "## Individual Experiments"
   ]
  },
  {
   "cell_type": "markdown",
   "metadata": {},
   "source": [
    "### Known Flip Rate"
   ]
  },
  {
   "cell_type": "code",
   "execution_count": null,
   "metadata": {},
   "outputs": [],
   "source": [
    "# Set seed for reproducibility\n",
    "seed = 32\n",
    "set_seed(seed)\n",
    "\n",
    "# Choose a dataset\n",
    "dataset = fashion_mnist_05()\n",
    "# Load the training, validation, and test sets\n",
    "(Xtr, Str), (Xval, Sval), (Xts, Yts) = dataset.load_data(random_state=seed)\n",
    "# Get the mean and standard deviation of the training set\n",
    "mean, std = dataset.mean, dataset.std\n",
    "# Get the transition matrix of noisy labels\n",
    "T = dataset.T\n",
    "# Get the input dimension / channel of the dataset\n",
    "input_dim = Xtr.shape[-1]\n",
    "# Encapsulate the dataset into a PyTorch Dataset object\n",
    "dataset_tr = ImageDataset(Xtr, Str, mean, std, is_augment=True)\n",
    "dataset_val = ImageDataset(Xval, Sval, mean, std)\n",
    "dataset_ts = ImageDataset(Xts, Yts, mean, std)\n",
    "# Get the test data loader for evaluation\n",
    "tsLoader = get_test_loader(dataset_ts)"
   ]
  },
  {
   "cell_type": "code",
   "execution_count": null,
   "metadata": {},
   "outputs": [],
   "source": [
    "# Instantiate the model according to the input dimension\n",
    "model = ResNet34(input_dim)\n",
    "# Instantiate the trainer (Forward Loss Correction algorithm)\n",
    "trainer = ForwardLossCorrection()\n",
    "# Perform training\n",
    "trainer.train(model, dataset_tr, dataset_val, epochs=200, T=T)\n",
    "# Evaluate the model\n",
    "acc, precision, recall, f1 = eval_metrics(model, tsLoader)\n",
    "print(acc, precision, recall, f1)"
   ]
  },
  {
   "cell_type": "code",
   "execution_count": null,
   "metadata": {},
   "outputs": [],
   "source": [
    "# Instantiate the models according to the input dimension\n",
    "model1 = ResNet34(input_dim)\n",
    "model2 = ResNet34(input_dim)\n",
    "# Instantiate the trainer (Co-Teaching algorithm)\n",
    "trainer = CoTeaching()\n",
    "# Perform training\n",
    "trainer.train(model1, model2, dataset_tr, dataset_val, epochs=200, T=T)\n",
    "# Evaluate the models\n",
    "acc_1, precision_1, recall_1, f1_1 = eval_metrics(model1, tsLoader)\n",
    "acc_2, precision_2, recall_2, f1_2 = eval_metrics(model2, tsLoader)\n",
    "print(acc_1, precision_1, recall_1, f1_1)\n",
    "print(acc_2, precision_2, recall_2, f1_2)"
   ]
  },
  {
   "cell_type": "markdown",
   "metadata": {},
   "source": [
    "### Unknown Flip Rate"
   ]
  },
  {
   "cell_type": "code",
   "execution_count": null,
   "metadata": {},
   "outputs": [],
   "source": [
    "# Set seed for reproducibility\n",
    "seed = 32\n",
    "set_seed(seed)\n",
    "\n",
    "# Choose a dataset\n",
    "dataset = fashion_mnist_06()\n",
    "# Load the training, validation, and test sets\n",
    "(Xtr, Str), (Xval, Sval), (Xts, Yts) = dataset.load_data(random_state=seed)\n",
    "# Get the mean and standard deviation of the training set\n",
    "mean, std = dataset.mean, dataset.std\n",
    "# Get the transition matrix of noisy labels\n",
    "T = dataset.T\n",
    "# Get the input dimension / channel of the dataset\n",
    "input_dim = Xtr.shape[-1]\n",
    "# Encapsulate the dataset into a PyTorch Dataset object\n",
    "dataset_tr = ImageDataset(Xtr, Str, mean, std, is_augment=True)\n",
    "dataset_val = ImageDataset(Xval, Sval, mean, std)\n",
    "dataset_ts = ImageDataset(Xts, Yts, mean, std)\n",
    "tsLoader = get_test_loader(dataset_ts)\n",
    "\n",
    "# Instantiate the model according to the input dimension\n",
    "model = ResNet34(input_dim)\n",
    "# Instantiate the trainer (Forward Loss Correction algorithm)\n",
    "trainer = ForwardLossCorrection()\n",
    "# Perform training\n",
    "trainer.train(model, dataset_tr, dataset_val, epochs=500, T=None)\n",
    "print(trainer.T)\n",
    "# Evaluate the model\n",
    "acc, precision, recall, f1 = eval_metrics(model, tsLoader)\n",
    "print(acc, precision, recall, f1)"
   ]
  },
  {
   "cell_type": "markdown",
   "metadata": {},
   "source": [
    "## Intensive Experiments"
   ]
  },
  {
   "cell_type": "code",
   "execution_count": null,
   "metadata": {},
   "outputs": [],
   "source": [
    "# Set a list of seeds for reproducibility\n",
    "seeds = [2 ** (i+1) for i in range(10)]"
   ]
  },
  {
   "cell_type": "code",
   "execution_count": null,
   "metadata": {},
   "outputs": [],
   "source": [
    "# Choose a dataset\n",
    "dataset1 = fashion_mnist_05()\n",
    "df1 = Experiment(seeds, dataset1, classifier='ResNet34', \n",
    "                 robust_method='co_teaching', # Options: 'loss_correction', 'jocor', 'o2u_net'\n",
    "                 epochs=300, save_best_model=False)\n",
    "df1"
   ]
  },
  {
   "cell_type": "code",
   "execution_count": null,
   "metadata": {},
   "outputs": [],
   "source": [
    "dataset3 = cifar()\n",
    "df2, transition_matrix = Experiment(seeds, dataset3, classifier='ResNet34', \n",
    "                                    robust_method='loss_correction', # Only 'loss_correction' is available for transition matrix estimation\n",
    "                                    epochs=300, save_best_model=False)\n",
    "df2"
   ]
  },
  {
   "cell_type": "code",
   "execution_count": null,
   "metadata": {},
   "outputs": [],
   "source": [
    "transition_matrix"
   ]
  }
 ],
 "metadata": {
  "language_info": {
   "name": "python"
  }
 },
 "nbformat": 4,
 "nbformat_minor": 2
}
